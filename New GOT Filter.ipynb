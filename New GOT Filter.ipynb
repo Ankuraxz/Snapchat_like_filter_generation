{
 "cells": [
  {
   "cell_type": "code",
   "execution_count": 4,
   "metadata": {},
   "outputs": [],
   "source": [
    "import cv2 as cv\n",
    "import numpy as np\n",
    "import pandas as pd\n"
   ]
  },
  {
   "cell_type": "code",
   "execution_count": 9,
   "metadata": {},
   "outputs": [
    {
     "ename": "error",
     "evalue": "OpenCV(4.0.0) C:\\projects\\opencv-python\\opencv\\modules\\imgproc\\src\\color.cpp:181: error: (-215:Assertion failed) !_src.empty() in function 'cv::cvtColor'\n",
     "output_type": "error",
     "traceback": [
      "\u001b[1;31m---------------------------------------------------------------------------\u001b[0m",
      "\u001b[1;31merror\u001b[0m                                     Traceback (most recent call last)",
      "\u001b[1;32m<ipython-input-9-0274fc88e038>\u001b[0m in \u001b[0;36m<module>\u001b[1;34m()\u001b[0m\n\u001b[0;32m     31\u001b[0m \u001b[0mglasses\u001b[0m \u001b[1;33m=\u001b[0m \u001b[0mcv\u001b[0m\u001b[1;33m.\u001b[0m\u001b[0mimread\u001b[0m\u001b[1;33m(\u001b[0m\u001b[1;34m'./Dataset/glasses.png'\u001b[0m\u001b[1;33m,\u001b[0m\u001b[1;33m-\u001b[0m\u001b[1;36m1\u001b[0m\u001b[1;33m)\u001b[0m\u001b[1;33m\u001b[0m\u001b[0m\n\u001b[0;32m     32\u001b[0m \u001b[0mmustache\u001b[0m \u001b[1;33m=\u001b[0m \u001b[0mcv\u001b[0m\u001b[1;33m.\u001b[0m\u001b[0mimread\u001b[0m\u001b[1;33m(\u001b[0m\u001b[1;34m'./Dataset/mustache.png'\u001b[0m\u001b[1;33m,\u001b[0m\u001b[1;33m-\u001b[0m\u001b[1;36m1\u001b[0m\u001b[1;33m)\u001b[0m\u001b[1;33m\u001b[0m\u001b[0m\n\u001b[1;32m---> 33\u001b[1;33m \u001b[0mgray1\u001b[0m \u001b[1;33m=\u001b[0m \u001b[0mcv\u001b[0m\u001b[1;33m.\u001b[0m\u001b[0mcvtColor\u001b[0m\u001b[1;33m(\u001b[0m\u001b[0mimg\u001b[0m\u001b[1;33m,\u001b[0m \u001b[0mcv\u001b[0m\u001b[1;33m.\u001b[0m\u001b[0mCOLOR_BGR2GRAY\u001b[0m\u001b[1;33m)\u001b[0m\u001b[1;33m\u001b[0m\u001b[0m\n\u001b[0m\u001b[0;32m     34\u001b[0m \u001b[1;33m\u001b[0m\u001b[0m\n\u001b[0;32m     35\u001b[0m \u001b[1;31m# cv.imshow('Jamie',gray)\u001b[0m\u001b[1;33m\u001b[0m\u001b[1;33m\u001b[0m\u001b[0m\n",
      "\u001b[1;31merror\u001b[0m: OpenCV(4.0.0) C:\\projects\\opencv-python\\opencv\\modules\\imgproc\\src\\color.cpp:181: error: (-215:Assertion failed) !_src.empty() in function 'cv::cvtColor'\n"
     ]
    }
   ],
   "source": [
    "\n",
    "def overlay_image_alpha(img, img_overlay, pos, alpha_mask):\n",
    "\n",
    "    x, y = pos\n",
    "\n",
    "    y1, y2 = max(0, y), min(img.shape[0], y + img_overlay.shape[0])\n",
    "    x1, x2 = max(0, x), min(img.shape[1], x + img_overlay.shape[1])\n",
    "\n",
    "    y1o, y2o = max(0, -y), min(img_overlay.shape[0], img.shape[0] - y)\n",
    "    x1o, x2o = max(0, -x), min(img_overlay.shape[1], img.shape[1] - x)\n",
    "\n",
    "    if y1 >= y2 or x1 >= x2 or y1o >= y2o or x1o >= x2o:\n",
    "        return\n",
    "\n",
    "    channels = img.shape[2]\n",
    "\n",
    "    alpha = alpha_mask[y1o:y2o, x1o:x2o]\n",
    "    alpha_inv = 1.0 - alpha\n",
    "\n",
    "    for c in range(channels):\n",
    "        img[y1:y2, x1:x2, c] = (alpha * img_overlay[y1o:y2o, x1o:x2o, c] +\n",
    "                                alpha_inv * img[y1:y2, x1:x2, c])\n",
    "\n",
    "face_cascade = cv.CascadeClassifier('./Dataset/third-party/haarcascade_frontalface_alt.xml')\n",
    "eye_cascade = cv.CascadeClassifier('./\\Dataset/third-party/frontalEyes35x16.xml')\n",
    "nose_cascade = cv.CascadeClassifier('./\\Dataset/third-party/Nose18x15.xml')\n",
    "\n",
    "img = cv.imread('./Dataset/Jamie_Before.png')\n",
    "#gray = cv.cvtColor(img, cv.COLOR_BGR2GRAY)\n",
    "\n",
    "glasses = cv.imread('./Dataset/glasses.png',-1)\n",
    "mustache = cv.imread('./Dataset/mustache.png',-1)\n",
    "gray = cv.cvtColor(img, cv.COLOR_BGR2GRAY)\n",
    "\n",
    "# cv.imshow('Jamie',gray)\n",
    "\n",
    "eye = eye_cascade.detectMultiScale(gray, 1.1, 5)\n",
    "for x,y,w,h in eye:\n",
    "\t# cv.rectangle(img, (x,y), (x+w,y+h), (255,0,0), 2)\n",
    "\tglasses = cv.resize(glasses, (h,w))\n",
    "\toverlay_image_alpha(img, glasses[:,:,0:3], (x,y), glasses[:,:,3]/255.0)\n",
    "\t\n",
    "nose = nose_cascade.detectMultiScale(gray, 1.1, 5)\n",
    "for x,y,w,h in nose:\n",
    "\t# cv.rectangle(img, (x,y), (x+w,y+h), (0,255,0), 2)\n",
    "\tmustache = cv.resize(mustache, (h+w,w))\n",
    "\th = int(h/2)\n",
    "\tw = int(w/2)\n",
    "\toverlay_image_alpha(img, mustache[:,:,0:3], (x-w,y+h), mustache[:,:,3]/255.0)\n",
    "\n",
    "cv.imshow('Image', img)\n",
    "cv.waitKey(0)\n",
    "cv.destroyAllWindows()\n",
    "\n",
    "# Convert into csv\n",
    "#img = cv.cvtColor(img, cv.COLOR_BGR2RGB)\n",
    "prediction = np.array(img)\n",
    "prediction = prediction.reshape((-1,3))\n",
    "print(prediction.shape)\n",
    "\n",
    "df = pd.DataFrame(data = prediction, columns=['Channel 1', 'Channel 2', 'Channel 3'])\n",
    "df.to_csv('result12.csv',index=False)\n"
   ]
  },
  {
   "cell_type": "code",
   "execution_count": null,
   "metadata": {},
   "outputs": [],
   "source": []
  }
 ],
 "metadata": {
  "kernelspec": {
   "display_name": "Python 3",
   "language": "python",
   "name": "python3"
  },
  "language_info": {
   "codemirror_mode": {
    "name": "ipython",
    "version": 3
   },
   "file_extension": ".py",
   "mimetype": "text/x-python",
   "name": "python",
   "nbconvert_exporter": "python",
   "pygments_lexer": "ipython3",
   "version": "3.6.5"
  }
 },
 "nbformat": 4,
 "nbformat_minor": 2
}
